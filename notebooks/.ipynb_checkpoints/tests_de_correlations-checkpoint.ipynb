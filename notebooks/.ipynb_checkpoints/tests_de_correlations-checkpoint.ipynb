{
 "cells": [
  {
   "cell_type": "markdown",
   "id": "590ced94",
   "metadata": {},
   "source": [
    "# Imports"
   ]
  },
  {
   "cell_type": "markdown",
   "id": "8bced4a6-6d6a-4940-b1b7-bda9671c2879",
   "metadata": {},
   "source": [
    "## Librairies"
   ]
  },
  {
   "cell_type": "code",
   "execution_count": 1,
   "id": "e5a5c026",
   "metadata": {},
   "outputs": [
    {
     "name": "stdout",
     "output_type": "stream",
     "text": [
      "Python 3.11.5\n",
      "pandas 2.1.4\n",
      "numpy 1.26.2\n",
      "seaborn 0.12.2\n",
      "statsmodels.api 0.14.0\n"
     ]
    }
   ],
   "source": [
    "import pandas as pd\n",
    "import numpy as np\n",
    "import scipy.stats as st\n",
    "import matplotlib.pyplot as plt\n",
    "import seaborn as sns\n",
    "import statsmodels.api as sm\n",
    "import warnings\n",
    "from statsmodels.formula.api import ols\n",
    "\n",
    "!python --version\n",
    "print('\\n'.join(f'{m.__name__} {m.__version__}' \n",
    "                for m in globals().values() \n",
    "                if getattr(m, '__version__', None)))"
   ]
  },
  {
   "cell_type": "markdown",
   "id": "9e0f7deb",
   "metadata": {},
   "source": [
    "## Options"
   ]
  },
  {
   "cell_type": "code",
   "execution_count": 22,
   "id": "e30d75af",
   "metadata": {},
   "outputs": [],
   "source": [
    "# Affichage de seulement deux chiffres après la virgule\n",
    "pd.options.display.float_format = \"{:.2f}\".format\n",
    "\n",
    "sns.set()"
   ]
  },
  {
   "cell_type": "markdown",
   "id": "d462c3f0",
   "metadata": {},
   "source": [
    "## Data"
   ]
  },
  {
   "cell_type": "code",
   "execution_count": 6,
   "id": "4b3492a4",
   "metadata": {},
   "outputs": [
    {
     "data": {
      "text/html": [
       "<div>\n",
       "<style scoped>\n",
       "    .dataframe tbody tr th:only-of-type {\n",
       "        vertical-align: middle;\n",
       "    }\n",
       "\n",
       "    .dataframe tbody tr th {\n",
       "        vertical-align: top;\n",
       "    }\n",
       "\n",
       "    .dataframe thead th {\n",
       "        text-align: right;\n",
       "    }\n",
       "</style>\n",
       "<table border=\"1\" class=\"dataframe\">\n",
       "  <thead>\n",
       "    <tr style=\"text-align: right;\">\n",
       "      <th></th>\n",
       "      <th>id_prod</th>\n",
       "      <th>date</th>\n",
       "      <th>session_id</th>\n",
       "      <th>client_id</th>\n",
       "      <th>price</th>\n",
       "      <th>categ</th>\n",
       "      <th>sex</th>\n",
       "      <th>age</th>\n",
       "      <th>year</th>\n",
       "      <th>month</th>\n",
       "      <th>day</th>\n",
       "      <th>range_age</th>\n",
       "    </tr>\n",
       "  </thead>\n",
       "  <tbody>\n",
       "    <tr>\n",
       "      <th>0</th>\n",
       "      <td>0_1518</td>\n",
       "      <td>2022-05-20 13:21:29</td>\n",
       "      <td>s_211425</td>\n",
       "      <td>c_103</td>\n",
       "      <td>4.18</td>\n",
       "      <td>0</td>\n",
       "      <td>f</td>\n",
       "      <td>39</td>\n",
       "      <td>2022</td>\n",
       "      <td>5</td>\n",
       "      <td>20</td>\n",
       "      <td>38-42</td>\n",
       "    </tr>\n",
       "    <tr>\n",
       "      <th>1</th>\n",
       "      <td>0_1627</td>\n",
       "      <td>2022-06-18 05:55:31</td>\n",
       "      <td>s_225494</td>\n",
       "      <td>c_103</td>\n",
       "      <td>3.99</td>\n",
       "      <td>0</td>\n",
       "      <td>f</td>\n",
       "      <td>39</td>\n",
       "      <td>2022</td>\n",
       "      <td>6</td>\n",
       "      <td>18</td>\n",
       "      <td>38-42</td>\n",
       "    </tr>\n",
       "    <tr>\n",
       "      <th>2</th>\n",
       "      <td>0_1104</td>\n",
       "      <td>2023-02-08 17:31:06</td>\n",
       "      <td>s_338755</td>\n",
       "      <td>c_103</td>\n",
       "      <td>13.21</td>\n",
       "      <td>0</td>\n",
       "      <td>f</td>\n",
       "      <td>39</td>\n",
       "      <td>2023</td>\n",
       "      <td>2</td>\n",
       "      <td>8</td>\n",
       "      <td>38-42</td>\n",
       "    </tr>\n",
       "    <tr>\n",
       "      <th>3</th>\n",
       "      <td>0_1390</td>\n",
       "      <td>2021-04-20 06:18:39</td>\n",
       "      <td>s_23078</td>\n",
       "      <td>c_103</td>\n",
       "      <td>19.37</td>\n",
       "      <td>0</td>\n",
       "      <td>f</td>\n",
       "      <td>39</td>\n",
       "      <td>2021</td>\n",
       "      <td>4</td>\n",
       "      <td>20</td>\n",
       "      <td>38-42</td>\n",
       "    </tr>\n",
       "    <tr>\n",
       "      <th>4</th>\n",
       "      <td>0_1547</td>\n",
       "      <td>2022-03-15 19:54:53</td>\n",
       "      <td>s_179629</td>\n",
       "      <td>c_103</td>\n",
       "      <td>8.99</td>\n",
       "      <td>0</td>\n",
       "      <td>f</td>\n",
       "      <td>39</td>\n",
       "      <td>2022</td>\n",
       "      <td>3</td>\n",
       "      <td>15</td>\n",
       "      <td>38-42</td>\n",
       "    </tr>\n",
       "  </tbody>\n",
       "</table>\n",
       "</div>"
      ],
      "text/plain": [
       "  id_prod                 date session_id client_id  price  categ sex  age  \\\n",
       "0  0_1518  2022-05-20 13:21:29   s_211425     c_103   4.18      0   f   39   \n",
       "1  0_1627  2022-06-18 05:55:31   s_225494     c_103   3.99      0   f   39   \n",
       "2  0_1104  2023-02-08 17:31:06   s_338755     c_103  13.21      0   f   39   \n",
       "3  0_1390  2021-04-20 06:18:39    s_23078     c_103  19.37      0   f   39   \n",
       "4  0_1547  2022-03-15 19:54:53   s_179629     c_103   8.99      0   f   39   \n",
       "\n",
       "   year  month  day range_age  \n",
       "0  2022      5   20     38-42  \n",
       "1  2022      6   18     38-42  \n",
       "2  2023      2    8     38-42  \n",
       "3  2021      4   20     38-42  \n",
       "4  2022      3   15     38-42  "
      ]
     },
     "execution_count": 6,
     "metadata": {},
     "output_type": "execute_result"
    }
   ],
   "source": [
    "df = pd.read_csv(\"../data/df_b2c.csv\", sep=\";\")\n",
    "df.head()"
   ]
  },
  {
   "cell_type": "code",
   "execution_count": 7,
   "id": "0f24367c-1335-4f73-bf37-508722a740d7",
   "metadata": {
    "scrolled": true
   },
   "outputs": [
    {
     "name": "stdout",
     "output_type": "stream",
     "text": [
      "<class 'pandas.core.frame.DataFrame'>\n",
      "RangeIndex: 632689 entries, 0 to 632688\n",
      "Data columns (total 12 columns):\n",
      " #   Column      Non-Null Count   Dtype  \n",
      "---  ------      --------------   -----  \n",
      " 0   id_prod     632689 non-null  object \n",
      " 1   date        632689 non-null  object \n",
      " 2   session_id  632689 non-null  object \n",
      " 3   client_id   632689 non-null  object \n",
      " 4   price       632689 non-null  float64\n",
      " 5   categ       632689 non-null  int64  \n",
      " 6   sex         632689 non-null  object \n",
      " 7   age         632689 non-null  int64  \n",
      " 8   year        632689 non-null  int64  \n",
      " 9   month       632689 non-null  int64  \n",
      " 10  day         632689 non-null  int64  \n",
      " 11  range_age   632689 non-null  object \n",
      "dtypes: float64(1), int64(5), object(6)\n",
      "memory usage: 57.9+ MB\n"
     ]
    }
   ],
   "source": [
    "df.info()"
   ]
  },
  {
   "cell_type": "markdown",
   "id": "1e95c598-0ee3-4172-ab2d-21bb2ef5be9a",
   "metadata": {},
   "source": [
    "# Tests de corrélations sur les clients B2C"
   ]
  },
  {
   "cell_type": "markdown",
   "id": "ea6d0fd2",
   "metadata": {},
   "source": [
    "## Sexe"
   ]
  },
  {
   "cell_type": "markdown",
   "id": "8e917b10",
   "metadata": {},
   "source": [
    "### Test de chi-2 - Lien entre la catégorie et le genre"
   ]
  },
  {
   "cell_type": "code",
   "execution_count": 11,
   "id": "29ba8e91",
   "metadata": {},
   "outputs": [
    {
     "data": {
      "text/html": [
       "<div>\n",
       "<style scoped>\n",
       "    .dataframe tbody tr th:only-of-type {\n",
       "        vertical-align: middle;\n",
       "    }\n",
       "\n",
       "    .dataframe tbody tr th {\n",
       "        vertical-align: top;\n",
       "    }\n",
       "\n",
       "    .dataframe thead th {\n",
       "        text-align: right;\n",
       "    }\n",
       "</style>\n",
       "<table border=\"1\" class=\"dataframe\">\n",
       "  <thead>\n",
       "    <tr style=\"text-align: right;\">\n",
       "      <th>categ</th>\n",
       "      <th>0</th>\n",
       "      <th>1</th>\n",
       "      <th>2</th>\n",
       "    </tr>\n",
       "    <tr>\n",
       "      <th>sex</th>\n",
       "      <th></th>\n",
       "      <th></th>\n",
       "      <th></th>\n",
       "    </tr>\n",
       "  </thead>\n",
       "  <tbody>\n",
       "    <tr>\n",
       "      <th>f</th>\n",
       "      <td>200904</td>\n",
       "      <td>111331</td>\n",
       "      <td>16980</td>\n",
       "    </tr>\n",
       "    <tr>\n",
       "      <th>m</th>\n",
       "      <td>186589</td>\n",
       "      <td>101017</td>\n",
       "      <td>15868</td>\n",
       "    </tr>\n",
       "  </tbody>\n",
       "</table>\n",
       "</div>"
      ],
      "text/plain": [
       "categ       0       1      2\n",
       "sex                         \n",
       "f      200904  111331  16980\n",
       "m      186589  101017  15868"
      ]
     },
     "execution_count": 11,
     "metadata": {},
     "output_type": "execute_result"
    }
   ],
   "source": [
    "# Table de contingence pour voir le nombre d'occurences pour chaque combinaison \n",
    "categ_sex = pd.crosstab(df['sex'], df['categ'])\n",
    "categ_sex"
   ]
  },
  {
   "cell_type": "code",
   "execution_count": 12,
   "id": "c279daa7",
   "metadata": {},
   "outputs": [
    {
     "name": "stdout",
     "output_type": "stream",
     "text": [
      "La pvalue est de 4.1075985631484716e-05\n"
     ]
    }
   ],
   "source": [
    "# Test de chi2 sur la table de contingence\n",
    "chi2, pvalue, dof, exp = st.chi2_contingency(categ_sex)\n",
    "\n",
    "print(f\"La pvalue est de\", pvalue)"
   ]
  },
  {
   "cell_type": "code",
   "execution_count": 13,
   "id": "5a1c2c5d",
   "metadata": {},
   "outputs": [],
   "source": [
    "# Dimensions de la table\n",
    "length_i = categ_sex.shape[0]\n",
    "length_j = categ_sex.shape[1]\n",
    "\n",
    "# Matrice pour stocker la contribution de chaque case à la stat de chi2\n",
    "xij = np.zeros((length_i, length_j))\n",
    "\n",
    "# Calcul de la contribution pour chaque case\n",
    "for i in range(length_i):\n",
    "    for j in range(length_j):\n",
    "        xij[i,j] = (categ_sex.values[i,j] - exp[i,j]) ** 2 / exp[i,j]"
   ]
  },
  {
   "cell_type": "code",
   "execution_count": 23,
   "id": "f3685e40-3d86-477c-a5dc-e3989812aec7",
   "metadata": {},
   "outputs": [
    {
     "data": {
      "image/png": "[encoded data removed]",
      "text/plain": [
       "<Figure size 1000x500 with 2 Axes>"
      ]
     },
     "metadata": {},
     "output_type": "display_data"
    }
   ],
   "source": [
    "plt.figure(figsize=(10, 5))      \n",
    "sns.heatmap(\n",
    "    xij/chi2, # Normalisation pour avoir la contribution relative\n",
    "    annot=categ_sex,\n",
    "    fmt='d',\n",
    "    yticklabels=['f', 'm']\n",
    ")\n",
    "\n",
    "plt.title(\"Heat map de l'influence avec le test de chi2\")\n",
    "plt.show()"
   ]
  },
  {
   "cell_type": "markdown",
   "id": "0bc413b6",
   "metadata": {},
   "source": [
    "La p-value est de 0.000041, donc inférieur à 0.05.\n",
    "\n",
    "Il existe donc une association statistiquement significative entre la catégorie de produit et le genre dans les clients B2C."
   ]
  },
  {
   "cell_type": "markdown",
   "id": "f36a0046",
   "metadata": {},
   "source": [
    "## Age"
   ]
  },
  {
   "cell_type": "markdown",
   "id": "440a36a0",
   "metadata": {},
   "source": [
    "### Test de Spearman - Lien entre l'âge et le montant total des achats"
   ]
  },
  {
   "cell_type": "markdown",
   "id": "7474807c",
   "metadata": {},
   "source": [
    "Comme ce n'est pas une distribution normale au vu des précédents résulats, le test de Spearman peut être intéressant."
   ]
  },
  {
   "cell_type": "code",
   "execution_count": 19,
   "id": "6cb86d51",
   "metadata": {},
   "outputs": [],
   "source": [
    "age = df.groupby([\"age\"])[\"client_id\"].count()\n",
    "total_achats_age = df.groupby([\"age\"])[\"price\"].sum()"
   ]
  },
  {
   "cell_type": "code",
   "execution_count": 21,
   "id": "b72ab5b3",
   "metadata": {},
   "outputs": [
    {
     "name": "stdout",
     "output_type": "stream",
     "text": [
      "Spearman  SignificanceResult(statistic=-0.8736842105263158, pvalue=7.352708223159905e-25)\n"
     ]
    }
   ],
   "source": [
    "# Corrélation entre les informations concernant l'âge et le montant total des achats effectués par ceux-ci\n",
    "print(\"Spearman \", st.spearmanr(total_achats_age.index, total_achats_age.values))"
   ]
  },
  {
   "cell_type": "code",
   "execution_count": 24,
   "id": "1920e5bf",
   "metadata": {
    "scrolled": true
   },
   "outputs": [
    {
     "data": {
      "image/png": "[encoded data removed]",
      "text/plain": [
       "<Figure size 1200x600 with 1 Axes>"
      ]
     },
     "metadata": {},
     "output_type": "display_data"
    }
   ],
   "source": [
    "# Création d'un graphique pour visualiser notre test de Spearman\n",
    "\n",
    "plt.figure(figsize=(12, 6))\n",
    "sns.scatterplot(data=total_achats_age)\n",
    "plt.ylabel(\"montant total du des achats\")\n",
    "plt.show()"
   ]
  },
  {
   "cell_type": "markdown",
   "id": "8baeaad7-fbc6-4bde-a31f-66dd958670ac",
   "metadata": {},
   "source": [
    "Il existe une association significative entre l'âge et le montant total des achats : le comportement d'achat varie selon l'âge, avec un pic autour de 45 ans et une forte diminution au-delà."
   ]
  },
  {
   "cell_type": "markdown",
   "id": "233a30ce",
   "metadata": {},
   "source": [
    "## Produits"
   ]
  },
  {
   "cell_type": "markdown",
   "id": "cc670b67",
   "metadata": {},
   "source": [
    "### Test de chi-2 - Lien entre la catégorie et les tranches d'âges"
   ]
  },
  {
   "cell_type": "code",
   "execution_count": 26,
   "id": "8acf3a6e",
   "metadata": {},
   "outputs": [
    {
     "data": {
      "text/html": [
       "<div>\n",
       "<style scoped>\n",
       "    .dataframe tbody tr th:only-of-type {\n",
       "        vertical-align: middle;\n",
       "    }\n",
       "\n",
       "    .dataframe tbody tr th {\n",
       "        vertical-align: top;\n",
       "    }\n",
       "\n",
       "    .dataframe thead th {\n",
       "        text-align: right;\n",
       "    }\n",
       "</style>\n",
       "<table border=\"1\" class=\"dataframe\">\n",
       "  <thead>\n",
       "    <tr style=\"text-align: right;\">\n",
       "      <th></th>\n",
       "      <th>range_age</th>\n",
       "      <th>categ</th>\n",
       "    </tr>\n",
       "  </thead>\n",
       "  <tbody>\n",
       "    <tr>\n",
       "      <th>0</th>\n",
       "      <td>38-42</td>\n",
       "      <td>0</td>\n",
       "    </tr>\n",
       "    <tr>\n",
       "      <th>1</th>\n",
       "      <td>38-42</td>\n",
       "      <td>0</td>\n",
       "    </tr>\n",
       "    <tr>\n",
       "      <th>2</th>\n",
       "      <td>38-42</td>\n",
       "      <td>0</td>\n",
       "    </tr>\n",
       "    <tr>\n",
       "      <th>3</th>\n",
       "      <td>38-42</td>\n",
       "      <td>0</td>\n",
       "    </tr>\n",
       "    <tr>\n",
       "      <th>4</th>\n",
       "      <td>38-42</td>\n",
       "      <td>0</td>\n",
       "    </tr>\n",
       "    <tr>\n",
       "      <th>...</th>\n",
       "      <td>...</td>\n",
       "      <td>...</td>\n",
       "    </tr>\n",
       "    <tr>\n",
       "      <th>632684</th>\n",
       "      <td>59-63</td>\n",
       "      <td>0</td>\n",
       "    </tr>\n",
       "    <tr>\n",
       "      <th>632685</th>\n",
       "      <td>27-31</td>\n",
       "      <td>1</td>\n",
       "    </tr>\n",
       "    <tr>\n",
       "      <th>632686</th>\n",
       "      <td>27-31</td>\n",
       "      <td>2</td>\n",
       "    </tr>\n",
       "    <tr>\n",
       "      <th>632687</th>\n",
       "      <td>27-31</td>\n",
       "      <td>1</td>\n",
       "    </tr>\n",
       "    <tr>\n",
       "      <th>632688</th>\n",
       "      <td>27-31</td>\n",
       "      <td>1</td>\n",
       "    </tr>\n",
       "  </tbody>\n",
       "</table>\n",
       "<p>632689 rows × 2 columns</p>\n",
       "</div>"
      ],
      "text/plain": [
       "       range_age  categ\n",
       "0          38-42      0\n",
       "1          38-42      0\n",
       "2          38-42      0\n",
       "3          38-42      0\n",
       "4          38-42      0\n",
       "...          ...    ...\n",
       "632684     59-63      0\n",
       "632685     27-31      1\n",
       "632686     27-31      2\n",
       "632687     27-31      1\n",
       "632688     27-31      1\n",
       "\n",
       "[632689 rows x 2 columns]"
      ]
     },
     "execution_count": 26,
     "metadata": {},
     "output_type": "execute_result"
    }
   ],
   "source": [
    "range_age_categ = df[['range_age', 'categ']]\n",
    "range_age_categ"
   ]
  },
  {
   "cell_type": "code",
   "execution_count": 28,
   "id": "1da5bea2",
   "metadata": {},
   "outputs": [
    {
     "data": {
      "text/html": [
       "<div>\n",
       "<style scoped>\n",
       "    .dataframe tbody tr th:only-of-type {\n",
       "        vertical-align: middle;\n",
       "    }\n",
       "\n",
       "    .dataframe tbody tr th {\n",
       "        vertical-align: top;\n",
       "    }\n",
       "\n",
       "    .dataframe thead th {\n",
       "        text-align: right;\n",
       "    }\n",
       "</style>\n",
       "<table border=\"1\" class=\"dataframe\">\n",
       "  <thead>\n",
       "    <tr style=\"text-align: right;\">\n",
       "      <th>categ</th>\n",
       "      <th>0</th>\n",
       "      <th>1</th>\n",
       "      <th>2</th>\n",
       "    </tr>\n",
       "    <tr>\n",
       "      <th>range_age</th>\n",
       "      <th></th>\n",
       "      <th></th>\n",
       "      <th></th>\n",
       "    </tr>\n",
       "  </thead>\n",
       "  <tbody>\n",
       "    <tr>\n",
       "      <th>21-26</th>\n",
       "      <td>8601</td>\n",
       "      <td>14222</td>\n",
       "      <td>14997</td>\n",
       "    </tr>\n",
       "    <tr>\n",
       "      <th>27-31</th>\n",
       "      <td>5813</td>\n",
       "      <td>9897</td>\n",
       "      <td>10763</td>\n",
       "    </tr>\n",
       "    <tr>\n",
       "      <th>32-37</th>\n",
       "      <td>60527</td>\n",
       "      <td>21475</td>\n",
       "      <td>4441</td>\n",
       "    </tr>\n",
       "    <tr>\n",
       "      <th>38-42</th>\n",
       "      <td>75737</td>\n",
       "      <td>23497</td>\n",
       "      <td>320</td>\n",
       "    </tr>\n",
       "    <tr>\n",
       "      <th>43-47</th>\n",
       "      <td>83787</td>\n",
       "      <td>26260</td>\n",
       "      <td>450</td>\n",
       "    </tr>\n",
       "    <tr>\n",
       "      <th>48-53</th>\n",
       "      <td>81656</td>\n",
       "      <td>25547</td>\n",
       "      <td>383</td>\n",
       "    </tr>\n",
       "    <tr>\n",
       "      <th>54-58</th>\n",
       "      <td>19131</td>\n",
       "      <td>24421</td>\n",
       "      <td>402</td>\n",
       "    </tr>\n",
       "    <tr>\n",
       "      <th>59-63</th>\n",
       "      <td>15614</td>\n",
       "      <td>20410</td>\n",
       "      <td>309</td>\n",
       "    </tr>\n",
       "    <tr>\n",
       "      <th>64-69</th>\n",
       "      <td>15491</td>\n",
       "      <td>19485</td>\n",
       "      <td>349</td>\n",
       "    </tr>\n",
       "    <tr>\n",
       "      <th>70-74</th>\n",
       "      <td>8860</td>\n",
       "      <td>11559</td>\n",
       "      <td>171</td>\n",
       "    </tr>\n",
       "    <tr>\n",
       "      <th>75-79</th>\n",
       "      <td>5503</td>\n",
       "      <td>6726</td>\n",
       "      <td>101</td>\n",
       "    </tr>\n",
       "    <tr>\n",
       "      <th>80-85</th>\n",
       "      <td>4115</td>\n",
       "      <td>5513</td>\n",
       "      <td>93</td>\n",
       "    </tr>\n",
       "    <tr>\n",
       "      <th>86-90</th>\n",
       "      <td>1898</td>\n",
       "      <td>2320</td>\n",
       "      <td>55</td>\n",
       "    </tr>\n",
       "    <tr>\n",
       "      <th>90-96</th>\n",
       "      <td>760</td>\n",
       "      <td>1016</td>\n",
       "      <td>14</td>\n",
       "    </tr>\n",
       "  </tbody>\n",
       "</table>\n",
       "</div>"
      ],
      "text/plain": [
       "categ          0      1      2\n",
       "range_age                     \n",
       "21-26       8601  14222  14997\n",
       "27-31       5813   9897  10763\n",
       "32-37      60527  21475   4441\n",
       "38-42      75737  23497    320\n",
       "43-47      83787  26260    450\n",
       "48-53      81656  25547    383\n",
       "54-58      19131  24421    402\n",
       "59-63      15614  20410    309\n",
       "64-69      15491  19485    349\n",
       "70-74       8860  11559    171\n",
       "75-79       5503   6726    101\n",
       "80-85       4115   5513     93\n",
       "86-90       1898   2320     55\n",
       "90-96        760   1016     14"
      ]
     },
     "execution_count": 28,
     "metadata": {},
     "output_type": "execute_result"
    }
   ],
   "source": [
    "# Création d'un tableau de contingence\n",
    "X = \"range_age\"\n",
    "Y = \"categ\"\n",
    "\n",
    "age_categ_cont = df[[X, Y]].pivot_table(index=X,\n",
    "                                           columns=Y,\n",
    "                                           aggfunc=len,\n",
    "                                           margins=True,\n",
    "                                           margins_name=\"Total\")\n",
    "\n",
    "# Suppression de la ligne et colonne 'Total' pour le test chi2\n",
    "age_categ_cont_no_total = age_categ_cont.drop(index=\"Total\").drop(columns=\"Total\")\n",
    "\n",
    "age_categ_cont_no_total"
   ]
  },
  {
   "cell_type": "code",
   "execution_count": 29,
   "id": "9fb1fc58",
   "metadata": {},
   "outputs": [
    {
     "name": "stdout",
     "output_type": "stream",
     "text": [
      "La pvalue est de 0.0\n"
     ]
    }
   ],
   "source": [
    "chi2, pvalue, dof, exp = st.chi2_contingency(age_categ_cont_no_total)\n",
    "\n",
    "print(f\"La pvalue est de\", pvalue)"
   ]
  },
  {
   "cell_type": "code",
   "execution_count": 30,
   "id": "2aca7f0e",
   "metadata": {},
   "outputs": [],
   "source": [
    "# Initialisation de la matrice de contribution\n",
    "xij = np.zeros(age_categ_cont_no_total.shape)\n",
    "\n",
    "# Calcul de la distribution de chaque case à la stat de chi2\n",
    "for i in range(age_categ_cont_no_total.shape[0]):\n",
    "    for j in range(age_categ_cont_no_total.shape[1]):\n",
    "        obs = age_categ_cont_no_total.values[i, j]\n",
    "        answer = exp[i, j]\n",
    "        xij[i, j] = (obs - answer) ** 2 / answer"
   ]
  },
  {
   "cell_type": "code",
   "execution_count": 35,
   "id": "a2f2bca9-fbfb-4f4d-a9fd-545bdba4c440",
   "metadata": {},
   "outputs": [
    {
     "data": {
      "image/png": "[encoded data removed]",
      "text/plain": [
       "<Figure size 1200x800 with 2 Axes>"
      ]
     },
     "metadata": {},
     "output_type": "display_data"
    }
   ],
   "source": [
    "plt.figure(figsize=(12, 8))\n",
    "sns.heatmap(\n",
    "    xij / chi2, # Contribution relative de chaque case\n",
    "    annot=age_categ_cont_no_total,\n",
    "    fmt=\"d\"\n",
    ")\n",
    "\n",
    "plt.title(\"Contributions relatives au chi2 par tranche d'âge et catégorie\")\n",
    "plt.xlabel(\"Catégorie\")\n",
    "plt.ylabel(\"Tranche d'âge\")\n",
    "plt.tight_layout()\n",
    "plt.show()"
   ]
  },
  {
   "cell_type": "markdown",
   "id": "27cbd921-c86d-4bf5-b54e-703bcfebd8c0",
   "metadata": {},
   "source": [
    "Le test de chi2 a mis en évidence une association statistiquement significative entre la tranche d'âge et la catégorie du produit.\n",
    "\n",
    "L'écart à l'indépendance provient principalement de la surconsommation très marquée de la catégorie 2 chez les clients les plus jeunes (21-26 ans et 27-31 ans). Les autres catégories et tranches d'âge restent proches de ce qu'on s'attendrait si les variables étaient indépendantes."
   ]
  },
  {
   "cell_type": "code",
   "execution_count": null,
   "id": "9701029a",
   "metadata": {},
   "outputs": [],
   "source": []
  }
 ],
 "metadata": {
  "kernelspec": {
   "display_name": "Python 3 (ipykernel)",
   "language": "python",
   "name": "python3"
  },
  "language_info": {
   "codemirror_mode": {
    "name": "ipython",
    "version": 3
   },
   "file_extension": ".py",
   "mimetype": "text/x-python",
   "name": "python",
   "nbconvert_exporter": "python",
   "pygments_lexer": "ipython3",
   "version": "3.11.5"
  }
 },
 "nbformat": 4,
 "nbformat_minor": 5
}
